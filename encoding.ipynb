{
  "nbformat": 4,
  "nbformat_minor": 0,
  "metadata": {
    "colab": {
      "name": "encoding.ipynb",
      "provenance": []
    },
    "kernelspec": {
      "name": "python3",
      "display_name": "Python 3"
    }
  },
  "cells": [
    {
      "cell_type": "markdown",
      "metadata": {
        "id": "MeIywLA4TqJM"
      },
      "source": [
        "## One-hot encoding vs target encoding\n",
        "Using consumer loan application data, I show below that we can often extract more information from categorical data for a machine learning model with target encoding compared to one-hot encoding."
      ]
    },
    {
      "cell_type": "code",
      "metadata": {
        "id": "Bh6MxYVYqSp9"
      },
      "source": [
        "# Load libraries\n",
        "import pandas as pd\n",
        "from xgboost import XGBRegressor\n",
        "from sklearn.metrics import mean_absolute_error\n",
        "from sklearn.model_selection import train_test_split"
      ],
      "execution_count": 64,
      "outputs": []
    },
    {
      "cell_type": "code",
      "metadata": {
        "id": "VY9SSYczqWTY",
        "outputId": "a625f960-0816-42d5-8837-45359d92cc3f",
        "colab": {
          "base_uri": "https://localhost:8080/"
        }
      },
      "source": [
        "# Load and explore data\n",
        "raw = pd.read_csv('https://raw.githubusercontent.com/sedeh/Datasets/main/loan_200k.csv')\n",
        "print(raw.shape)\n",
        "print(raw.columns)"
      ],
      "execution_count": 65,
      "outputs": [
        {
          "output_type": "stream",
          "text": [
            "(200000, 18)\n",
            "Index(['id', 'member_id', 'loan_amnt', 'term_in_months', 'interest_rate',\n",
            "       'payment', 'grade', 'sub_grade', 'employment_length', 'home_owner',\n",
            "       'income', 'verified', 'default', 'purpose', 'zip_code', 'addr_state',\n",
            "       'open_accts', 'credit_debt'],\n",
            "      dtype='object')\n"
          ],
          "name": "stdout"
        }
      ]
    },
    {
      "cell_type": "code",
      "metadata": {
        "id": "FKI9zvqJ-w3n",
        "outputId": "b4aecfd8-f576-441c-cea9-055f70823dc0",
        "colab": {
          "base_uri": "https://localhost:8080/"
        }
      },
      "source": [
        "# Select data\n",
        "col = 'sub_grade'\n",
        "# col = 'grade'\n",
        "df = raw.select_dtypes('number').drop(['id', 'member_id'], axis=1)\n",
        "df[col] = raw[col]\n",
        "print(df[col].nunique())"
      ],
      "execution_count": 69,
      "outputs": [
        {
          "output_type": "stream",
          "text": [
            "7\n"
          ],
          "name": "stdout"
        }
      ]
    },
    {
      "cell_type": "code",
      "metadata": {
        "id": "lWqTXYRa_7Kp",
        "outputId": "b4794cae-70b6-4327-b49e-da5d3bd5fe5a",
        "colab": {
          "base_uri": "https://localhost:8080/"
        }
      },
      "source": [
        "# One-hot encoding\n",
        "data = pd.get_dummies(df, columns=[col], drop_first=True)\n",
        "y = data['interest_rate']\n",
        "X = data.drop(['interest_rate'], axis=1)\n",
        "X_train, X_test, y_train, y_test = train_test_split(X, y, test_size=0.1, random_state=1)\n",
        "model = XGBRegressor()\n",
        "model.fit(X_train, y_train)\n",
        "y_true = model.predict(X_test)\n",
        "mean_absolute_error(y_true, y_test)"
      ],
      "execution_count": 70,
      "outputs": [
        {
          "output_type": "stream",
          "text": [
            "[01:34:53] WARNING: /workspace/src/objective/regression_obj.cu:152: reg:linear is now deprecated in favor of reg:squarederror.\n"
          ],
          "name": "stdout"
        },
        {
          "output_type": "execute_result",
          "data": {
            "text/plain": [
              "1.1119605288410184"
            ]
          },
          "metadata": {
            "tags": []
          },
          "execution_count": 70
        }
      ]
    },
    {
      "cell_type": "code",
      "metadata": {
        "id": "pdHVRoTnBLdp",
        "outputId": "15ed9a07-fcbe-4c13-8c39-43626f47269c",
        "colab": {
          "base_uri": "https://localhost:8080/"
        }
      },
      "source": [
        "# Target encoding\n",
        "means = df[[col, 'interest_rate']].groupby(col).mean().reset_index()\n",
        "keys = means[col]\n",
        "values = means.interest_rate\n",
        "mapper = {keys[i]: values[i] for i in range(len(keys))}\n",
        "df['interest_rate_by_grade'] = df[col].map(mapper)\n",
        "data = df.drop(col, axis=1)\n",
        "y = data['interest_rate']\n",
        "X = data.drop(['interest_rate'], axis=1)\n",
        "X_train, X_test, y_train, y_test = train_test_split(X, y, test_size=0.1, random_state=1)\n",
        "model = XGBRegressor()\n",
        "model.fit(X_train, y_train)\n",
        "y_true = model.predict(X_test)\n",
        "mean_absolute_error(y_true, y_test)"
      ],
      "execution_count": 71,
      "outputs": [
        {
          "output_type": "stream",
          "text": [
            "[01:35:06] WARNING: /workspace/src/objective/regression_obj.cu:152: reg:linear is now deprecated in favor of reg:squarederror.\n"
          ],
          "name": "stdout"
        },
        {
          "output_type": "execute_result",
          "data": {
            "text/plain": [
              "1.0050220181236267"
            ]
          },
          "metadata": {
            "tags": []
          },
          "execution_count": 71
        }
      ]
    }
  ]
}